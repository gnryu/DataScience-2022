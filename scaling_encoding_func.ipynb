{
  "nbformat": 4,
  "nbformat_minor": 0,
  "metadata": {
    "colab": {
      "name": "scaling_encoding_func.ipynb",
      "provenance": [],
      "authorship_tag": "ABX9TyNPAXEsvdPUMUs0F4k71U/t",
      "include_colab_link": true
    },
    "kernelspec": {
      "name": "python3",
      "display_name": "Python 3"
    },
    "language_info": {
      "name": "python"
    }
  },
  "cells": [
    {
      "cell_type": "markdown",
      "metadata": {
        "id": "view-in-github",
        "colab_type": "text"
      },
      "source": [
        "<a href=\"https://colab.research.google.com/github/gnryu/DataScience_TermProject/blob/main/scaling_encoding_func.ipynb\" target=\"_parent\"><img src=\"https://colab.research.google.com/assets/colab-badge.svg\" alt=\"Open In Colab\"/></a>"
      ]
    },
    {
      "cell_type": "code",
      "source": [
        "import pandas as pd\n",
        "import numpy as np\n",
        "from sklearn import preprocessing"
      ],
      "metadata": {
        "id": "3V1s2kIXDXyF"
      },
      "execution_count": 4,
      "outputs": []
    },
    {
      "cell_type": "markdown",
      "source": [
        "Min-Max Scaling + One-Hot Encoding"
      ],
      "metadata": {
        "id": "r4YgYHGIEUhh"
      }
    },
    {
      "cell_type": "code",
      "execution_count": 5,
      "metadata": {
        "id": "f3RPD1bhC-Re"
      },
      "outputs": [],
      "source": [
        "def MinMaxSacling_OneHotEncoding(sampleData):\n",
        "    df = pd.DataFrame.copy(sampleData)\n",
        "\n",
        "    df_categorical_features = sampleData.select_dtypes(include = ['object'])\n",
        "    categorical_features = df_categorical_features.columns\n",
        "\n",
        "    df = pd.get_dummies(df[categorical_features], drop_first=True)\n",
        "\n",
        "    df_float_features = sampleData.select_dtypes(include = ['float64'])\n",
        "    float_features = df_float_features.columns\n",
        "\n",
        "    scaler = preprocessing.MinMaxScaler()\n",
        "    df[float_features] = scaler.fit_transform(df_float_features[float_features])\n",
        "\n",
        "    df = pd.concat([df, sampleData['Lng']],axis=1)\n",
        "    df = pd.concat([df, sampleData['Lat']],axis=1)\n",
        "\n",
        "    return df"
      ]
    },
    {
      "cell_type": "markdown",
      "source": [
        "Min-Max Scaling + Label Encoding"
      ],
      "metadata": {
        "id": "RHQT3O_pEZhY"
      }
    },
    {
      "cell_type": "code",
      "source": [
        "def MinMaxSacling_LabelEncoding(sampleData):\n",
        "    df = pd.DataFrame.copy(sampleData)\n",
        "    df_categorical_features = sampleData.select_dtypes(include = ['object'])\n",
        "    categorical_features = df_categorical_features.columns\n",
        "        \n",
        "    encoder = preprocessing.LabelEncoder()\n",
        "    for i in range(0, 4):\n",
        "        df[categorical_features[i]] = encoder.fit_transform(df[categorical_features[i]])\n",
        "\n",
        "    df_float_features = sampleData.select_dtypes(include = ['float64'])\n",
        "    float_features = df_float_features.columns\n",
        "    \n",
        "    scaler = preprocessing.MinMaxScaler()\n",
        "    df[float_features] = scaler.fit_transform(df_float_features[float_features])\n",
        "\n",
        "    df = pd.concat([df, sampleData['Lng']],axis=1)\n",
        "    df = pd.concat([df, sampleData['Lat']],axis=1)\n",
        "\n",
        "    return df"
      ],
      "metadata": {
        "id": "McEdZoUrDX0m"
      },
      "execution_count": 6,
      "outputs": []
    },
    {
      "cell_type": "markdown",
      "source": [
        "Standard Scaling + One-Hot Encoding"
      ],
      "metadata": {
        "id": "-s3mmvu-EcRZ"
      }
    },
    {
      "cell_type": "code",
      "source": [
        "def standard_one_hot(data):\n",
        "    s_o=pd.DataFrame.copy(data)\n",
        "    df_float = s_o.select_dtypes(include=['float64'])\n",
        "    float_features = df_float.columns\n",
        "  \n",
        "    scaler = preprocessing.StandardScaler()\n",
        "\n",
        "    s_o[float_features] = scaler.fit_transform(df_float[float_features])\n",
        "    \n",
        "    df_categorical_features = s_o.select_dtypes(include = ['object'])\n",
        "    categorical_features = df_categorical_features.columns\n",
        "    s_o=pd.get_dummies(s_o[categorical_features],drop_first=True)\n",
        "    \n",
        "    s_o[['Lat']] = data[['Lat']]\n",
        "    s_o[['Lng']] = data[['Lng']]\n",
        "    return s_o"
      ],
      "metadata": {
        "id": "NV_LdnXDDX3z"
      },
      "execution_count": 7,
      "outputs": []
    },
    {
      "cell_type": "markdown",
      "source": [
        "Standard Scaling + Label Encoding"
      ],
      "metadata": {
        "id": "-FNY0F3SEfoT"
      }
    },
    {
      "cell_type": "code",
      "source": [
        "def standard_label(data):\n",
        "    s_l=pd.DataFrame.copy(data)\n",
        "\n",
        "    df_categorical_features = s_l.select_dtypes(include = ['object'])\n",
        "    categorical_features = df_categorical_features.columns\n",
        "\n",
        "    le = preprocessing.LabelEncoder()\n",
        "    for i in range(len(categorical_features)):\n",
        "        s_l[categorical_features[i]] = le.fit_transform(s_l[categorical_features[i]])\n",
        "\n",
        "    df_float = s_l.select_dtypes(include=['float64'])\n",
        "    float_features = df_float.columns\n",
        "    print(float_features)\n",
        "    scaler = preprocessing.StandardScaler()\n",
        "    s_l[float_features] = scaler.fit_transform(df_float[float_features])\n",
        "    s_l[['Lat']] = data[['Lat']]\n",
        "    s_l[['Lng']] = data[['Lng']]\n",
        "    return s_l"
      ],
      "metadata": {
        "id": "69Uc2OdUDX7Y"
      },
      "execution_count": 8,
      "outputs": []
    },
    {
      "cell_type": "markdown",
      "source": [
        "Robust Scaling + One-Hot Encoding"
      ],
      "metadata": {
        "id": "VdW99eCoGqY-"
      }
    },
    {
      "cell_type": "code",
      "source": [
        "def robust_oneHot(data):\n",
        "  # se_data: copied data where the data to be scaled and encoded will be stored\n",
        "  se_data = pd.DataFrame.copy(data)\n",
        "\n",
        "  # get features with float type values\n",
        "  df_float = se_data.select_dtypes(include = ['float64'])\n",
        "  float_features = df_float.columns\n",
        "\n",
        "  # scale float values using Robust Scaler\n",
        "  rs = preprocessing.RobustScaler()\n",
        "  se_data[float_features] = rs.fit_transform(df_float[float_features])\n",
        "\n",
        "  # Latitude and Longitude are not scaled\n",
        "  se_data[['Lat']] = data[['Lat']]\n",
        "  se_data[['Lng']] = data[['Lng']]\n",
        "\n",
        "  # get features with categorical type values\n",
        "  df_categorical = se_data.select_dtypes(include = ['object'])\n",
        "  categorical_features = df_categorical.columns\n",
        "\n",
        "  # encode categorical values using One Hot Encoding\n",
        "  se_data = pd.get_dummies(se_data[categorical_features])\n",
        "\n",
        "  return se_data"
      ],
      "metadata": {
        "id": "S9g3lIdrDw00"
      },
      "execution_count": 9,
      "outputs": []
    },
    {
      "cell_type": "markdown",
      "source": [
        "Robust Scaling + Label Encoding"
      ],
      "metadata": {
        "id": "mIELaY0iGsqO"
      }
    },
    {
      "cell_type": "code",
      "source": [
        "def robust_label(data):\n",
        "  # se_data: copied data where the data to be scaled and encoded will be stored\n",
        "  se_data = pd.DataFrame.copy(data)\n",
        "\n",
        "  # get features with float type values\n",
        "  df_float = se_data.select_dtypes(include = ['float64'])\n",
        "  float_features = df_float.columns\n",
        "\n",
        "  # scale float values using Robust Scaler\n",
        "  rs = preprocessing.RobustScaler()\n",
        "  se_data[float_features] = rs.fit_transform(df_float[float_features])\n",
        "\n",
        "  # Latitude and Longitude are not scaled\n",
        "  se_data[['Lat']] = data[['Lat']]\n",
        "  se_data[['Lng']] = data[['Lng']]\n",
        "\n",
        "  # get features with categorical type values\n",
        "  df_categorical = se_data.select_dtypes(include = ['object'])\n",
        "  categorical_features = df_categorical.columns\n",
        "\n",
        "  # encode categorical values using Label Encoder\n",
        "  le = preprocessing.LabelEncoder()\n",
        "  for i in range(len(categorical_features)):\n",
        "    se_data[categorical_features[i]] = le.fit_transform(se_data[categorical_features[i]])\n",
        "  \n",
        "  return se_data"
      ],
      "metadata": {
        "id": "ss9MoNwzDw4T"
      },
      "execution_count": 10,
      "outputs": []
    },
    {
      "cell_type": "code",
      "source": [
        ""
      ],
      "metadata": {
        "id": "HDQ9_WbDHYaa"
      },
      "execution_count": null,
      "outputs": []
    }
  ]
}